{
 "cells": [
  {
   "cell_type": "code",
   "execution_count": null,
   "metadata": {},
   "outputs": [],
   "source": [
    "import IsoSpecPy\n",
    "import pandas\n",
    "from matchms import Spectrum\n",
    "from matchms.exporting import save_as_msp"
   ]
  },
  {
   "cell_type": "code",
   "execution_count": null,
   "metadata": {},
   "outputs": [],
   "source": [
    "compound_table = pandas.read_csv(\"lc_markers_neg.csv\")"
   ]
  },
  {
   "cell_type": "code",
   "execution_count": null,
   "metadata": {},
   "outputs": [
    {
     "name": "stdout",
     "output_type": "stream",
     "text": [
      "2023-10-25 17:43:11,347:WARNING:matchms:add_precursor_mz:No precursor_mz found in metadata.\n",
      "2023-10-25 17:43:11,349:WARNING:matchms:add_precursor_mz:No precursor_mz found in metadata.\n",
      "2023-10-25 17:43:11,351:WARNING:matchms:add_precursor_mz:No precursor_mz found in metadata.\n",
      "2023-10-25 17:43:11,352:WARNING:matchms:add_precursor_mz:No precursor_mz found in metadata.\n",
      "2023-10-25 17:43:11,353:WARNING:matchms:add_precursor_mz:No precursor_mz found in metadata.\n",
      "2023-10-25 17:43:11,354:WARNING:matchms:add_precursor_mz:No precursor_mz found in metadata.\n",
      "2023-10-25 17:43:11,355:WARNING:matchms:add_precursor_mz:No precursor_mz found in metadata.\n",
      "2023-10-25 17:43:11,357:WARNING:matchms:add_precursor_mz:No precursor_mz found in metadata.\n",
      "2023-10-25 17:43:11,358:WARNING:matchms:add_precursor_mz:No precursor_mz found in metadata.\n",
      "2023-10-25 17:43:11,360:WARNING:matchms:add_precursor_mz:No precursor_mz found in metadata.\n",
      "2023-10-25 17:43:11,361:WARNING:matchms:add_precursor_mz:No precursor_mz found in metadata.\n",
      "2023-10-25 17:43:11,362:WARNING:matchms:add_precursor_mz:No precursor_mz found in metadata.\n",
      "2023-10-25 17:43:11,363:WARNING:matchms:add_precursor_mz:No precursor_mz found in metadata.\n",
      "2023-10-25 17:43:11,363:WARNING:matchms:add_precursor_mz:No precursor_mz found in metadata.\n",
      "2023-10-25 17:43:11,364:WARNING:matchms:add_precursor_mz:No precursor_mz found in metadata.\n",
      "2023-10-25 17:43:11,365:WARNING:matchms:add_precursor_mz:No precursor_mz found in metadata.\n",
      "2023-10-25 17:43:11,366:WARNING:matchms:add_precursor_mz:No precursor_mz found in metadata.\n",
      "2023-10-25 17:43:11,367:WARNING:matchms:add_precursor_mz:No precursor_mz found in metadata.\n",
      "2023-10-25 17:43:11,367:WARNING:matchms:add_precursor_mz:No precursor_mz found in metadata.\n",
      "2023-10-25 17:43:11,368:WARNING:matchms:add_precursor_mz:No precursor_mz found in metadata.\n",
      "2023-10-25 17:43:11,369:WARNING:matchms:add_precursor_mz:No precursor_mz found in metadata.\n",
      "2023-10-25 17:43:11,370:WARNING:matchms:add_precursor_mz:No precursor_mz found in metadata.\n",
      "2023-10-25 17:43:11,371:WARNING:matchms:add_precursor_mz:No precursor_mz found in metadata.\n"
     ]
    }
   ],
   "source": [
    "spectra = []\n",
    "for idx, row in compound_table.iterrows():\n",
    "    iso = IsoSpecPy.IsoTotalProb(formula=row[\"formula\"], prob_to_cover = 0.999)\n",
    "    iso.sort_by_mass()\n",
    "    iso.normalize()\n",
    "    mzs = iso.np_masses()\n",
    "    intensities = iso.np_probs()\n",
    "\n",
    "    spectrum = Spectrum(mz=iso.np_masses(), intensities=iso.np_probs(), metadata=row.to_dict())\n",
    "    spectra.append(spectrum)\n",
    "save_as_msp(spectra, \"lc_markers_neg.msp\")"
   ]
  }
 ],
 "metadata": {
  "kernelspec": {
   "display_name": "Python 3",
   "language": "python",
   "name": "python3"
  },
  "language_info": {
   "codemirror_mode": {
    "name": "ipython",
    "version": 3
   },
   "file_extension": ".py",
   "mimetype": "text/x-python",
   "name": "python",
   "nbconvert_exporter": "python",
   "pygments_lexer": "ipython3",
   "version": "3.10.12"
  }
 },
 "nbformat": 4,
 "nbformat_minor": 2
}
